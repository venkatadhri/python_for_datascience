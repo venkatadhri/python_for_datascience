{
 "cells": [
  {
   "cell_type": "code",
   "execution_count": 2,
   "id": "1c0f3890",
   "metadata": {},
   "outputs": [
    {
     "name": "stdout",
     "output_type": "stream",
     "text": [
      "hellow world\n"
     ]
    }
   ],
   "source": [
    "print(\"hellow world\")"
   ]
  },
  {
   "cell_type": "code",
   "execution_count": 3,
   "id": "9a41d7fa",
   "metadata": {},
   "outputs": [
    {
     "name": "stdout",
     "output_type": "stream",
     "text": [
      "5\n"
     ]
    }
   ],
   "source": [
    "# Python syntax refers to the set of rules that defines how Python code is written and interpreted.\n",
    "# For example, here is a simple Python statement:\n",
    "x = 5\n",
    "print(x)"
   ]
  },
  {
   "cell_type": "code",
   "execution_count": null,
   "id": "d67a90fb",
   "metadata": {},
   "outputs": [],
   "source": [
    "## basic syntax rules:\n",
    "## case sensitivity: Python is case-sensitive, meaning that variable names like `myVar` and `myvar` are considered different.\n",
    "## indentation: Python uses indentation to define blocks of code. Indentation is crucial for defining the structure of loops, functions, and classes.\n",
    "## comments: Comments in Python start with a `#` symbol and are used to explain code or provide context. They are ignored by the interpreter.\n",
    "## variables: Variables in Python can be created by simply assigning a value to a name, like `x = 10`.\n",
    "## data types: Python supports various data types, including integers, floats, strings, lists, tuples, and dictionaries.\n",
    "\n",
    "\n"
   ]
  }
 ],
 "metadata": {
  "kernelspec": {
   "display_name": "venv3.11",
   "language": "python",
   "name": "python3"
  },
  "language_info": {
   "codemirror_mode": {
    "name": "ipython",
    "version": 3
   },
   "file_extension": ".py",
   "mimetype": "text/x-python",
   "name": "python",
   "nbconvert_exporter": "python",
   "pygments_lexer": "ipython3",
   "version": "3.11.1"
  }
 },
 "nbformat": 4,
 "nbformat_minor": 5
}
