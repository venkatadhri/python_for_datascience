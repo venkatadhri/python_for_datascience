{
 "cells": [
  {
   "cell_type": "code",
   "execution_count": 9,
   "id": "fe4644bc",
   "metadata": {},
   "outputs": [
    {
     "name": "stdout",
     "output_type": "stream",
     "text": [
      "10\n",
      "Sam\n"
     ]
    }
   ],
   "source": [
    "# Introduction to Variables\n",
    "\n",
    "# In Python, a variable is used to store data that can be used later in the program.\n",
    "# You can create a variable by assigning a value to a name using the '=' operator.\n",
    "\n",
    "# Example:\n",
    "x = 10        # x is a variable storing the integer 10\n",
    "name = \"Sam\"  # name is a variable storing the string \"Sam\"\n",
    "\n",
    "print(x)\n",
    "print(name)"
   ]
  },
  {
   "cell_type": "code",
   "execution_count": 10,
   "id": "196262fc",
   "metadata": {},
   "outputs": [
    {
     "name": "stdout",
     "output_type": "stream",
     "text": [
      "25\n",
      "1.75\n",
      "New York\n"
     ]
    }
   ],
   "source": [
    "# Declaring and assigning variables\n",
    "\n",
    "# Assign an integer value\n",
    "age = 25\n",
    "\n",
    "# Assign a floating point value\n",
    "height = 1.75\n",
    "\n",
    "# Assign a string value\n",
    "city = \"New York\"\n",
    "\n",
    "print(age)\n",
    "print(height)\n",
    "print(city)"
   ]
  },
  {
   "cell_type": "code",
   "execution_count": 11,
   "id": "213d7441",
   "metadata": {},
   "outputs": [
    {
     "name": "stdout",
     "output_type": "stream",
     "text": [
      "Alice\n",
      "Smith\n",
      "30\n"
     ]
    }
   ],
   "source": [
    "# Naming conventions in Python\n",
    "\n",
    "# Variable names should be descriptive and use lowercase letters with words separated by underscores (snake_case).\n",
    "# Examples:\n",
    "first_name = \"Alice\"\n",
    "last_name = \"Smith\"\n",
    "user_age = 30\n",
    "\n",
    "print(first_name)\n",
    "print(last_name)\n",
    "print(user_age)"
   ]
  },
  {
   "cell_type": "code",
   "execution_count": 12,
   "id": "77a8d3ca",
   "metadata": {},
   "outputs": [
    {
     "name": "stdout",
     "output_type": "stream",
     "text": [
      "<class 'int'>\n",
      "<class 'str'>\n",
      "<class 'int'>\n",
      "<class 'float'>\n",
      "<class 'str'>\n",
      "<class 'str'>\n"
     ]
    }
   ],
   "source": [
    "# Understanding variable types\n",
    "\n",
    "# You can check the type of a variable using the type() function.\n",
    "print(type(x))         # Output: <class 'int'>\n",
    "print(type(name))      # Output: <class 'str'>\n",
    "print(type(age))       # Output: <class 'int'>\n",
    "print(type(height))    # Output: <class 'float'>\n",
    "print(type(city))      # Output: <class 'str'>\n",
    "print(type(first_name))# Output: <class 'str'>"
   ]
  },
  {
   "cell_type": "code",
   "execution_count": 13,
   "id": "d8886050",
   "metadata": {},
   "outputs": [
    {
     "name": "stdout",
     "output_type": "stream",
     "text": [
      "<class 'int'>\n",
      "30\n",
      "<class 'str'>\n",
      "1\n",
      "<class 'int'>\n"
     ]
    }
   ],
   "source": [
    "# Type checking and conversion\n",
    "\n",
    "# Check the type of user_age\n",
    "print(type(user_age))  # Output: <class 'int'>\n",
    "\n",
    "# Convert user_age to a string\n",
    "user_age_str = str(user_age)\n",
    "print(user_age_str)\n",
    "print(type(user_age_str))  # Output: <class 'str'>\n",
    "\n",
    "# Convert height to an integer\n",
    "height_int = int(height)\n",
    "print(height_int)\n",
    "print(type(height_int))  # Output: <class 'int'>"
   ]
  },
  {
   "cell_type": "code",
   "execution_count": 14,
   "id": "56ec0b26",
   "metadata": {},
   "outputs": [
    {
     "name": "stdout",
     "output_type": "stream",
     "text": [
      "42 <class 'int'>\n",
      "Hello <class 'str'>\n",
      "3.14 <class 'float'>\n"
     ]
    }
   ],
   "source": [
    "# Dynamic typing in Python\n",
    "\n",
    "# In Python, variables are dynamically typed, meaning you can assign a value of any type to a variable,\n",
    "# and later assign a value of a different type to the same variable.\n",
    "\n",
    "value = 42         # value is an integer\n",
    "print(value, type(value))\n",
    "\n",
    "value = \"Hello\"    # now value is a string\n",
    "print(value, type(value))\n",
    "\n",
    "value = 3.14       # now value is a float\n",
    "print(value, type(value))"
   ]
  },
  {
   "cell_type": "code",
   "execution_count": 15,
   "id": "fa8582ac",
   "metadata": {},
   "outputs": [
    {
     "name": "stdout",
     "output_type": "stream",
     "text": [
      "Score: 100\n",
      "UnboundLocalError: cannot access local variable 'my_var' where it is not associated with a value\n",
      "TypeError: can only concatenate str (not \"int\") to str\n",
      "Before: 123 <class 'str'>\n",
      "After: 123 <class 'int'>\n"
     ]
    }
   ],
   "source": [
    "# Practice examples on variables and common errors\n",
    "\n",
    "# Example 1: Using an undefined variable (NameError)\n",
    "# try:\n",
    "#     print(unknown_variable)\n",
    "# except NameError as e:\n",
    "#     print(\"NameError:\", e)\n",
    "\n",
    "# Example 2: Assigning a value to a variable and using it\n",
    "score = 100\n",
    "print(\"Score:\", score)\n",
    "\n",
    "# Example 3: Using a variable before assignment (UnboundLocalError)\n",
    "def test_func():\n",
    "    try:\n",
    "        print(my_var)\n",
    "        my_var = 5\n",
    "    except UnboundLocalError as e:\n",
    "        print(\"UnboundLocalError:\", e)\n",
    "\n",
    "test_func()\n",
    "\n",
    "# Example 4: TypeError when performing invalid operations\n",
    "try:\n",
    "    result = \"Age: \" + 25  # Cannot concatenate str and int\n",
    "except TypeError as e:\n",
    "    print(\"TypeError:\", e)\n",
    "\n",
    "# Example 5: Overwriting a variable with a different type\n",
    "data = \"123\"\n",
    "print(\"Before:\", data, type(data))\n",
    "data = 123\n",
    "print(\"After:\", data, type(data))"
   ]
  }
 ],
 "metadata": {
  "kernelspec": {
   "display_name": "venv3.11",
   "language": "python",
   "name": "python3"
  },
  "language_info": {
   "codemirror_mode": {
    "name": "ipython",
    "version": 3
   },
   "file_extension": ".py",
   "mimetype": "text/x-python",
   "name": "python",
   "nbconvert_exporter": "python",
   "pygments_lexer": "ipython3",
   "version": "3.11.1"
  }
 },
 "nbformat": 4,
 "nbformat_minor": 5
}
